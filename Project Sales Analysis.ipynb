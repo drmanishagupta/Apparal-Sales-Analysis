{
 "cells": [
  {
   "cell_type": "markdown",
   "id": "43056ba9-dcdd-488c-a1f0-0c6f54b96bec",
   "metadata": {},
   "source": [
    "# Project"
   ]
  },
  {
   "cell_type": "code",
   "execution_count": 1,
   "id": "a7d36ec7-b20a-4565-963b-5407b3d65c5a",
   "metadata": {},
   "outputs": [],
   "source": [
    "# Import necessary librariesdata \n",
    "import pandas as pd\n",
    "import numpy as np\n",
    "import seaborn as sns\n",
    "import matplotlib.pyplot as plt\n",
    "from scipy import stats"
   ]
  },
  {
   "cell_type": "code",
   "execution_count": 2,
   "id": "73e56ae1-c0f1-464d-9395-57f3ae93c49d",
   "metadata": {},
   "outputs": [],
   "source": [
    "df = pd.read_csv('AusApparalSales4thQrt2020.csv')"
   ]
  },
  {
   "cell_type": "markdown",
   "id": "9e7e1299",
   "metadata": {},
   "source": [
    "## 1.Data Wrangling"
   ]
  },
  {
   "cell_type": "code",
   "execution_count": 3,
   "id": "cc9986b5",
   "metadata": {},
   "outputs": [
    {
     "data": {
      "text/html": [
       "<div>\n",
       "<style scoped>\n",
       "    .dataframe tbody tr th:only-of-type {\n",
       "        vertical-align: middle;\n",
       "    }\n",
       "\n",
       "    .dataframe tbody tr th {\n",
       "        vertical-align: top;\n",
       "    }\n",
       "\n",
       "    .dataframe thead th {\n",
       "        text-align: right;\n",
       "    }\n",
       "</style>\n",
       "<table border=\"1\" class=\"dataframe\">\n",
       "  <thead>\n",
       "    <tr style=\"text-align: right;\">\n",
       "      <th></th>\n",
       "      <th>Date</th>\n",
       "      <th>Time</th>\n",
       "      <th>State</th>\n",
       "      <th>Group</th>\n",
       "      <th>Unit</th>\n",
       "      <th>Sales</th>\n",
       "    </tr>\n",
       "  </thead>\n",
       "  <tbody>\n",
       "    <tr>\n",
       "      <th>0</th>\n",
       "      <td>1-Oct-2020</td>\n",
       "      <td>Morning</td>\n",
       "      <td>WA</td>\n",
       "      <td>Kids</td>\n",
       "      <td>8</td>\n",
       "      <td>20000</td>\n",
       "    </tr>\n",
       "    <tr>\n",
       "      <th>1</th>\n",
       "      <td>1-Oct-2020</td>\n",
       "      <td>Morning</td>\n",
       "      <td>WA</td>\n",
       "      <td>Men</td>\n",
       "      <td>8</td>\n",
       "      <td>20000</td>\n",
       "    </tr>\n",
       "    <tr>\n",
       "      <th>2</th>\n",
       "      <td>1-Oct-2020</td>\n",
       "      <td>Morning</td>\n",
       "      <td>WA</td>\n",
       "      <td>Women</td>\n",
       "      <td>4</td>\n",
       "      <td>10000</td>\n",
       "    </tr>\n",
       "    <tr>\n",
       "      <th>3</th>\n",
       "      <td>1-Oct-2020</td>\n",
       "      <td>Morning</td>\n",
       "      <td>WA</td>\n",
       "      <td>Seniors</td>\n",
       "      <td>15</td>\n",
       "      <td>37500</td>\n",
       "    </tr>\n",
       "    <tr>\n",
       "      <th>4</th>\n",
       "      <td>1-Oct-2020</td>\n",
       "      <td>Afternoon</td>\n",
       "      <td>WA</td>\n",
       "      <td>Kids</td>\n",
       "      <td>3</td>\n",
       "      <td>7500</td>\n",
       "    </tr>\n",
       "  </tbody>\n",
       "</table>\n",
       "</div>"
      ],
      "text/plain": [
       "         Date        Time State     Group  Unit  Sales\n",
       "0  1-Oct-2020     Morning    WA      Kids     8  20000\n",
       "1  1-Oct-2020     Morning    WA       Men     8  20000\n",
       "2  1-Oct-2020     Morning    WA     Women     4  10000\n",
       "3  1-Oct-2020     Morning    WA   Seniors    15  37500\n",
       "4  1-Oct-2020   Afternoon    WA      Kids     3   7500"
      ]
     },
     "execution_count": 3,
     "metadata": {},
     "output_type": "execute_result"
    }
   ],
   "source": [
    "df.head()"
   ]
  },
  {
   "cell_type": "code",
   "execution_count": 4,
   "id": "59c7b212",
   "metadata": {},
   "outputs": [],
   "source": [
    "# Preprocess the Dataset"
   ]
  },
  {
   "cell_type": "code",
   "execution_count": 5,
   "id": "1132a5b2",
   "metadata": {},
   "outputs": [
    {
     "data": {
      "text/plain": [
       "7560"
      ]
     },
     "execution_count": 5,
     "metadata": {},
     "output_type": "execute_result"
    }
   ],
   "source": [
    "len(df)"
   ]
  },
  {
   "cell_type": "code",
   "execution_count": 6,
   "id": "a7164c6f",
   "metadata": {},
   "outputs": [
    {
     "data": {
      "text/plain": [
       "(7560, 6)"
      ]
     },
     "execution_count": 6,
     "metadata": {},
     "output_type": "execute_result"
    }
   ],
   "source": [
    "df.shape"
   ]
  },
  {
   "cell_type": "code",
   "execution_count": 7,
   "id": "51de352d",
   "metadata": {},
   "outputs": [
    {
     "name": "stdout",
     "output_type": "stream",
     "text": [
      "<class 'pandas.core.frame.DataFrame'>\n",
      "RangeIndex: 7560 entries, 0 to 7559\n",
      "Data columns (total 6 columns):\n",
      " #   Column  Non-Null Count  Dtype \n",
      "---  ------  --------------  ----- \n",
      " 0   Date    7560 non-null   object\n",
      " 1   Time    7560 non-null   object\n",
      " 2   State   7560 non-null   object\n",
      " 3   Group   7560 non-null   object\n",
      " 4   Unit    7560 non-null   int64 \n",
      " 5   Sales   7560 non-null   int64 \n",
      "dtypes: int64(2), object(4)\n",
      "memory usage: 354.5+ KB\n"
     ]
    }
   ],
   "source": [
    "df.info()"
   ]
  },
  {
   "cell_type": "code",
   "execution_count": 8,
   "id": "feed37ac",
   "metadata": {},
   "outputs": [
    {
     "data": {
      "text/plain": [
       "Date     0\n",
       "Time     0\n",
       "State    0\n",
       "Group    0\n",
       "Unit     0\n",
       "Sales    0\n",
       "dtype: int64"
      ]
     },
     "execution_count": 8,
     "metadata": {},
     "output_type": "execute_result"
    }
   ],
   "source": [
    "df.isnull().sum()"
   ]
  },
  {
   "cell_type": "code",
   "execution_count": 9,
   "id": "045869cd",
   "metadata": {},
   "outputs": [
    {
     "data": {
      "text/plain": [
       "Date     object\n",
       "Time     object\n",
       "State    object\n",
       "Group    object\n",
       "Unit      int64\n",
       "Sales     int64\n",
       "dtype: object"
      ]
     },
     "execution_count": 9,
     "metadata": {},
     "output_type": "execute_result"
    }
   ],
   "source": [
    "df.dtypes"
   ]
  },
  {
   "cell_type": "code",
   "execution_count": 10,
   "id": "732331e7",
   "metadata": {},
   "outputs": [
    {
     "data": {
      "text/plain": [
       "Index(['Date', 'Time', 'State', 'Group', 'Unit', 'Sales'], dtype='object')"
      ]
     },
     "execution_count": 10,
     "metadata": {},
     "output_type": "execute_result"
    }
   ],
   "source": [
    "df.columns"
   ]
  },
  {
   "cell_type": "code",
   "execution_count": 11,
   "id": "2adcd49a",
   "metadata": {},
   "outputs": [],
   "source": [
    "df.rename(columns={'Group': 'Category'}, inplace=True)"
   ]
  },
  {
   "cell_type": "code",
   "execution_count": 12,
   "id": "1cb70144",
   "metadata": {},
   "outputs": [],
   "source": [
    "df['Date'] = pd.to_datetime(df['Date'])"
   ]
  },
  {
   "cell_type": "code",
   "execution_count": 13,
   "id": "765354d2",
   "metadata": {},
   "outputs": [
    {
     "data": {
      "text/html": [
       "<div>\n",
       "<style scoped>\n",
       "    .dataframe tbody tr th:only-of-type {\n",
       "        vertical-align: middle;\n",
       "    }\n",
       "\n",
       "    .dataframe tbody tr th {\n",
       "        vertical-align: top;\n",
       "    }\n",
       "\n",
       "    .dataframe thead th {\n",
       "        text-align: right;\n",
       "    }\n",
       "</style>\n",
       "<table border=\"1\" class=\"dataframe\">\n",
       "  <thead>\n",
       "    <tr style=\"text-align: right;\">\n",
       "      <th></th>\n",
       "      <th>Date</th>\n",
       "      <th>Time</th>\n",
       "      <th>State</th>\n",
       "      <th>Category</th>\n",
       "      <th>Unit</th>\n",
       "      <th>Sales</th>\n",
       "    </tr>\n",
       "  </thead>\n",
       "  <tbody>\n",
       "    <tr>\n",
       "      <th>0</th>\n",
       "      <td>2020-10-01</td>\n",
       "      <td>Morning</td>\n",
       "      <td>WA</td>\n",
       "      <td>Kids</td>\n",
       "      <td>8</td>\n",
       "      <td>20000</td>\n",
       "    </tr>\n",
       "    <tr>\n",
       "      <th>1</th>\n",
       "      <td>2020-10-01</td>\n",
       "      <td>Morning</td>\n",
       "      <td>WA</td>\n",
       "      <td>Men</td>\n",
       "      <td>8</td>\n",
       "      <td>20000</td>\n",
       "    </tr>\n",
       "    <tr>\n",
       "      <th>2</th>\n",
       "      <td>2020-10-01</td>\n",
       "      <td>Morning</td>\n",
       "      <td>WA</td>\n",
       "      <td>Women</td>\n",
       "      <td>4</td>\n",
       "      <td>10000</td>\n",
       "    </tr>\n",
       "    <tr>\n",
       "      <th>3</th>\n",
       "      <td>2020-10-01</td>\n",
       "      <td>Morning</td>\n",
       "      <td>WA</td>\n",
       "      <td>Seniors</td>\n",
       "      <td>15</td>\n",
       "      <td>37500</td>\n",
       "    </tr>\n",
       "    <tr>\n",
       "      <th>4</th>\n",
       "      <td>2020-10-01</td>\n",
       "      <td>Afternoon</td>\n",
       "      <td>WA</td>\n",
       "      <td>Kids</td>\n",
       "      <td>3</td>\n",
       "      <td>7500</td>\n",
       "    </tr>\n",
       "  </tbody>\n",
       "</table>\n",
       "</div>"
      ],
      "text/plain": [
       "        Date        Time State  Category  Unit  Sales\n",
       "0 2020-10-01     Morning    WA      Kids     8  20000\n",
       "1 2020-10-01     Morning    WA       Men     8  20000\n",
       "2 2020-10-01     Morning    WA     Women     4  10000\n",
       "3 2020-10-01     Morning    WA   Seniors    15  37500\n",
       "4 2020-10-01   Afternoon    WA      Kids     3   7500"
      ]
     },
     "execution_count": 13,
     "metadata": {},
     "output_type": "execute_result"
    }
   ],
   "source": [
    "df.head()"
   ]
  },
  {
   "cell_type": "code",
   "execution_count": 14,
   "id": "3bcafae2",
   "metadata": {},
   "outputs": [
    {
     "data": {
      "text/plain": [
       "Date        datetime64[ns]\n",
       "Time                object\n",
       "State               object\n",
       "Category            object\n",
       "Unit                 int64\n",
       "Sales                int64\n",
       "dtype: object"
      ]
     },
     "execution_count": 14,
     "metadata": {},
     "output_type": "execute_result"
    }
   ],
   "source": [
    "df.dtypes\n"
   ]
  },
  {
   "cell_type": "code",
   "execution_count": 15,
   "id": "0741a8da",
   "metadata": {},
   "outputs": [],
   "source": [
    "cols = list(df.select_dtypes(np.object_).columns)"
   ]
  },
  {
   "cell_type": "code",
   "execution_count": 16,
   "id": "3e35144f",
   "metadata": {},
   "outputs": [],
   "source": [
    "df[cols] = df[cols].astype('string')"
   ]
  },
  {
   "cell_type": "code",
   "execution_count": 17,
   "id": "6d845d97",
   "metadata": {},
   "outputs": [
    {
     "data": {
      "text/plain": [
       "Date        datetime64[ns]\n",
       "Time                string\n",
       "State               string\n",
       "Category            string\n",
       "Unit                 int64\n",
       "Sales                int64\n",
       "dtype: object"
      ]
     },
     "execution_count": 17,
     "metadata": {},
     "output_type": "execute_result"
    }
   ],
   "source": [
    "df.dtypes"
   ]
  },
  {
   "cell_type": "code",
   "execution_count": 18,
   "id": "db8f6d20",
   "metadata": {},
   "outputs": [],
   "source": [
    "## Observation\n",
    "# Since their no null value so no need to drop null\n",
    "# Since all the **object** types are converted to **string** types, and 'Date' column type is also change to 'datetime' we have formatted them correctly. \n",
    "# Columns 'Group' name is changed to 'Category' to make it more sence to that colum and rest of the  column is also looking fine so no need to change them"
   ]
  },
  {
   "cell_type": "markdown",
   "id": "cb9059d3",
   "metadata": {},
   "source": [
    "## 2. Data Analysis"
   ]
  },
  {
   "cell_type": "code",
   "execution_count": 19,
   "id": "6588e5c3",
   "metadata": {},
   "outputs": [],
   "source": [
    "import warnings\n",
    "warnings.filterwarnings('ignore')\n",
    "\n",
    "pd.set_option('display.max_rows', None )"
   ]
  },
  {
   "cell_type": "code",
   "execution_count": 20,
   "id": "14f6417a",
   "metadata": {},
   "outputs": [],
   "source": [
    "# Descriptive statistical analysis "
   ]
  },
  {
   "cell_type": "code",
   "execution_count": 21,
   "id": "d886a9d0",
   "metadata": {},
   "outputs": [
    {
     "data": {
      "text/html": [
       "<div>\n",
       "<style scoped>\n",
       "    .dataframe tbody tr th:only-of-type {\n",
       "        vertical-align: middle;\n",
       "    }\n",
       "\n",
       "    .dataframe tbody tr th {\n",
       "        vertical-align: top;\n",
       "    }\n",
       "\n",
       "    .dataframe thead th {\n",
       "        text-align: right;\n",
       "    }\n",
       "</style>\n",
       "<table border=\"1\" class=\"dataframe\">\n",
       "  <thead>\n",
       "    <tr style=\"text-align: right;\">\n",
       "      <th></th>\n",
       "      <th>Unit</th>\n",
       "      <th>Sales</th>\n",
       "    </tr>\n",
       "  </thead>\n",
       "  <tbody>\n",
       "    <tr>\n",
       "      <th>count</th>\n",
       "      <td>7560.000000</td>\n",
       "      <td>7560.000000</td>\n",
       "    </tr>\n",
       "    <tr>\n",
       "      <th>mean</th>\n",
       "      <td>18.005423</td>\n",
       "      <td>45013.558201</td>\n",
       "    </tr>\n",
       "    <tr>\n",
       "      <th>std</th>\n",
       "      <td>12.901403</td>\n",
       "      <td>32253.506944</td>\n",
       "    </tr>\n",
       "    <tr>\n",
       "      <th>min</th>\n",
       "      <td>2.000000</td>\n",
       "      <td>5000.000000</td>\n",
       "    </tr>\n",
       "    <tr>\n",
       "      <th>25%</th>\n",
       "      <td>8.000000</td>\n",
       "      <td>20000.000000</td>\n",
       "    </tr>\n",
       "    <tr>\n",
       "      <th>50%</th>\n",
       "      <td>14.000000</td>\n",
       "      <td>35000.000000</td>\n",
       "    </tr>\n",
       "    <tr>\n",
       "      <th>75%</th>\n",
       "      <td>26.000000</td>\n",
       "      <td>65000.000000</td>\n",
       "    </tr>\n",
       "    <tr>\n",
       "      <th>max</th>\n",
       "      <td>65.000000</td>\n",
       "      <td>162500.000000</td>\n",
       "    </tr>\n",
       "  </tbody>\n",
       "</table>\n",
       "</div>"
      ],
      "text/plain": [
       "              Unit          Sales\n",
       "count  7560.000000    7560.000000\n",
       "mean     18.005423   45013.558201\n",
       "std      12.901403   32253.506944\n",
       "min       2.000000    5000.000000\n",
       "25%       8.000000   20000.000000\n",
       "50%      14.000000   35000.000000\n",
       "75%      26.000000   65000.000000\n",
       "max      65.000000  162500.000000"
      ]
     },
     "execution_count": 21,
     "metadata": {},
     "output_type": "execute_result"
    }
   ],
   "source": [
    "df.describe()"
   ]
  },
  {
   "cell_type": "code",
   "execution_count": 22,
   "id": "96375ad4",
   "metadata": {},
   "outputs": [],
   "source": [
    "# Statewise Sales"
   ]
  },
  {
   "cell_type": "code",
   "execution_count": 23,
   "id": "1324d11f",
   "metadata": {},
   "outputs": [],
   "source": [
    "state_df = df.groupby('State')['Sales'].sum()"
   ]
  },
  {
   "cell_type": "code",
   "execution_count": 24,
   "id": "323a0efe",
   "metadata": {},
   "outputs": [
    {
     "data": {
      "text/plain": [
       "State\n",
       "NSW     74970000\n",
       "NT      22580000\n",
       "QLD     33417500\n",
       "SA      58857500\n",
       "TAS     22760000\n",
       "VIC    105565000\n",
       "WA      22152500\n",
       "Name: Sales, dtype: int64"
      ]
     },
     "execution_count": 24,
     "metadata": {},
     "output_type": "execute_result"
    }
   ],
   "source": [
    "state_df"
   ]
  },
  {
   "cell_type": "code",
   "execution_count": 25,
   "id": "08282263",
   "metadata": {},
   "outputs": [],
   "source": [
    "state_sales = df.groupby('State')['Sales'].sum().reset_index()"
   ]
  },
  {
   "cell_type": "code",
   "execution_count": 26,
   "id": "00cf3da9",
   "metadata": {},
   "outputs": [],
   "source": [
    "state_sales = state_sales.sort_values(by='Sales', ascending=False)"
   ]
  },
  {
   "cell_type": "code",
   "execution_count": 27,
   "id": "5f9ce749",
   "metadata": {},
   "outputs": [
    {
     "data": {
      "image/png": "[encoded data removed]",
      "text/plain": [
       "<Figure size 800x400 with 1 Axes>"
      ]
     },
     "metadata": {},
     "output_type": "display_data"
    }
   ],
   "source": [
    "plt.figure(figsize=(8, 4))\n",
    "plt.bar(state_sales['State'], state_sales['Sales'])\n",
    "plt.title('Sales Across Different States of Australia')\n",
    "plt.xlabel('State')\n",
    "plt.ylabel('Sales')\n",
    "plt.xticks(rotation=45)\n",
    "plt.tight_layout()\n",
    "plt.show()"
   ]
  },
  {
   "cell_type": "code",
   "execution_count": 28,
   "id": "baa4d968",
   "metadata": {},
   "outputs": [
    {
     "data": {
      "text/plain": [
       "' VIC'"
      ]
     },
     "execution_count": 28,
     "metadata": {},
     "output_type": "execute_result"
    }
   ],
   "source": [
    "highest_sales_state = df.groupby('State')['Sales'].sum().idxmax()\n",
    "highest_sales_state"
   ]
  },
  {
   "cell_type": "code",
   "execution_count": 29,
   "id": "a08687e5",
   "metadata": {},
   "outputs": [
    {
     "data": {
      "text/plain": [
       "' WA'"
      ]
     },
     "execution_count": 29,
     "metadata": {},
     "output_type": "execute_result"
    }
   ],
   "source": [
    "lowest_sales_state = df.groupby('State')['Sales'].sum().idxmin()\n",
    "lowest_sales_state"
   ]
  },
  {
   "cell_type": "code",
   "execution_count": 30,
   "id": "939b4f1a",
   "metadata": {},
   "outputs": [],
   "source": [
    "## The number of sales is diggernt in every state\n",
    "# The VIC state has highest Sales and WA has lowest sales"
   ]
  },
  {
   "cell_type": "code",
   "execution_count": 31,
   "id": "500890d0",
   "metadata": {},
   "outputs": [],
   "source": [
    "## CategoryWise Sales"
   ]
  },
  {
   "cell_type": "code",
   "execution_count": 32,
   "id": "5caeac52",
   "metadata": {},
   "outputs": [
    {
     "data": {
      "text/plain": [
       "Category\n",
       "Kids       1890\n",
       "Men        1890\n",
       "Seniors    1890\n",
       "Women      1890\n",
       "Name: Sales, dtype: int64"
      ]
     },
     "execution_count": 32,
     "metadata": {},
     "output_type": "execute_result"
    }
   ],
   "source": [
    "df.groupby('Category').count()['Sales']"
   ]
  },
  {
   "cell_type": "code",
   "execution_count": 33,
   "id": "e5ccf21f",
   "metadata": {},
   "outputs": [
    {
     "ename": "NameError",
     "evalue": "name 'group_df' is not defined",
     "output_type": "error",
     "traceback": [
      "\u001b[1;31m---------------------------------------------------------------------------\u001b[0m",
      "\u001b[1;31mNameError\u001b[0m                                 Traceback (most recent call last)",
      "\u001b[1;32m~\\AppData\\Local\\Temp\\ipykernel_17368\\2385002261.py\u001b[0m in \u001b[0;36m<module>\u001b[1;34m\u001b[0m\n\u001b[1;32m----> 1\u001b[1;33m \u001b[0mgroup_df\u001b[0m\u001b[1;33m\u001b[0m\u001b[1;33m\u001b[0m\u001b[0m\n\u001b[0m",
      "\u001b[1;31mNameError\u001b[0m: name 'group_df' is not defined"
     ]
    }
   ],
   "source": [
    "group_df"
   ]
  },
  {
   "cell_type": "code",
   "execution_count": null,
   "id": "74c8b96b",
   "metadata": {},
   "outputs": [],
   "source": [
    "category_df = df.groupby('Category')['Sales'].sum()\n",
    "category_df"
   ]
  },
  {
   "cell_type": "code",
   "execution_count": null,
   "id": "531d2ea4",
   "metadata": {},
   "outputs": [],
   "source": [
    "highest_sales_category = df.groupby('Category')['Sales'].sum().idxmax()\n",
    "highest_sales_category"
   ]
  },
  {
   "cell_type": "code",
   "execution_count": null,
   "id": "e1d7843a",
   "metadata": {},
   "outputs": [],
   "source": [
    "lowest_sales_category = df.groupby('Category')['Sales'].sum().idxmin()\n",
    "lowest_sales_category"
   ]
  },
  {
   "cell_type": "code",
   "execution_count": null,
   "id": "618e7000",
   "metadata": {},
   "outputs": [],
   "source": [
    "category_sales = df.groupby('Category')['Sales'].sum().reset_index()"
   ]
  },
  {
   "cell_type": "code",
   "execution_count": null,
   "id": "9d38a2f9",
   "metadata": {},
   "outputs": [],
   "source": [
    "category_sales = category_sales.sort_values(by='Sales', ascending=False)"
   ]
  },
  {
   "cell_type": "code",
   "execution_count": null,
   "id": "b9cd3fb2",
   "metadata": {},
   "outputs": [],
   "source": [
    "plt.figure(figsize=(8, 4))\n",
    "plt.bar(category_sales['Category'], category_sales['Sales'])\n",
    "plt.title('Sales in Different Group')\n",
    "plt.xlabel('Category')\n",
    "plt.ylabel('Sales')\n",
    "plt.xticks(rotation=45)\n",
    "plt.tight_layout()\n",
    "plt.show()"
   ]
  },
  {
   "cell_type": "code",
   "execution_count": null,
   "id": "17796d19",
   "metadata": {},
   "outputs": [],
   "source": [
    "## Their is no huge diffeence of sales among all category\n",
    "## Men Has Higest sales and Senior has lowest sales although differenc is not much as per shown in graph"
   ]
  },
  {
   "cell_type": "code",
   "execution_count": null,
   "id": "c7239cba",
   "metadata": {},
   "outputs": [],
   "source": [
    "# Timewise Sales"
   ]
  },
  {
   "cell_type": "code",
   "execution_count": null,
   "id": "d93aed61",
   "metadata": {},
   "outputs": [],
   "source": [
    "df.groupby('Time').count()['Sales']"
   ]
  },
  {
   "cell_type": "code",
   "execution_count": null,
   "id": "fa7a0207",
   "metadata": {},
   "outputs": [],
   "source": [
    "time_df = df.groupby('Time')['Sales'].sum()"
   ]
  },
  {
   "cell_type": "code",
   "execution_count": null,
   "id": "869116cc",
   "metadata": {},
   "outputs": [],
   "source": [
    "time_df"
   ]
  },
  {
   "cell_type": "code",
   "execution_count": null,
   "id": "2c128ab8",
   "metadata": {},
   "outputs": [],
   "source": [
    "time_sales = df.groupby('Time')['Sales'].sum().reset_index()"
   ]
  },
  {
   "cell_type": "code",
   "execution_count": null,
   "id": "6da7f7e4",
   "metadata": {},
   "outputs": [],
   "source": [
    "time_sales = time_sales.sort_values(by='Sales', ascending=False)"
   ]
  },
  {
   "cell_type": "code",
   "execution_count": null,
   "id": "96b733a5",
   "metadata": {},
   "outputs": [],
   "source": [
    "plt.figure(figsize=(8, 4))\n",
    "plt.bar(time_sales['Time'], time_sales['Sales'])\n",
    "plt.title('Sales at Different Times of the Day')\n",
    "plt.xlabel('Time of Day')\n",
    "plt.ylabel('Sales')\n",
    "plt.xticks(rotation=45)\n",
    "plt.tight_layout()\n",
    "plt.show()"
   ]
  },
  {
   "cell_type": "code",
   "execution_count": null,
   "id": "65fbf81a",
   "metadata": {},
   "outputs": [],
   "source": [
    "highest_sales_time = df.groupby('Time')['Sales'].sum().idxmax()"
   ]
  },
  {
   "cell_type": "code",
   "execution_count": null,
   "id": "62d43a7c",
   "metadata": {},
   "outputs": [],
   "source": [
    "highest_sales_time"
   ]
  },
  {
   "cell_type": "code",
   "execution_count": null,
   "id": "b406205b",
   "metadata": {},
   "outputs": [],
   "source": [
    "lowest_sales_time = df.groupby('Time')['Sales'].sum().idxmin()"
   ]
  },
  {
   "cell_type": "code",
   "execution_count": null,
   "id": "9e6b990c",
   "metadata": {},
   "outputs": [],
   "source": [
    "lowest_sales_time"
   ]
  },
  {
   "cell_type": "code",
   "execution_count": null,
   "id": "0c3227a5",
   "metadata": {},
   "outputs": [],
   "source": [
    "## Their is no huge diffeence of sales in Time of a day\n",
    "## Morning Has Higest sales and Evening has lowest sales although differenc is not much as per shown in graph"
   ]
  },
  {
   "cell_type": "code",
   "execution_count": null,
   "id": "bf6b5d2d",
   "metadata": {},
   "outputs": [],
   "source": [
    "# Weekly report"
   ]
  },
  {
   "cell_type": "code",
   "execution_count": null,
   "id": "9936f2c0",
   "metadata": {},
   "outputs": [],
   "source": [
    "# Set the 'Date' column as the index\n",
    "df.set_index('Date', inplace=True)"
   ]
  },
  {
   "cell_type": "code",
   "execution_count": null,
   "id": "0cbb01d7",
   "metadata": {},
   "outputs": [],
   "source": [
    "weekly_sales = df.resample('W')['Sales'].sum()"
   ]
  },
  {
   "cell_type": "code",
   "execution_count": null,
   "id": "7e03d579",
   "metadata": {},
   "outputs": [],
   "source": [
    "print(\"Weekly Sales:\")\n",
    "print(weekly_sales)"
   ]
  },
  {
   "cell_type": "code",
   "execution_count": null,
   "id": "062032f0",
   "metadata": {},
   "outputs": [],
   "source": [
    "# Monthly Report"
   ]
  },
  {
   "cell_type": "code",
   "execution_count": null,
   "id": "5ef5efb3",
   "metadata": {},
   "outputs": [],
   "source": [
    "monthly_sales = df.resample('M')['Sales'].sum()"
   ]
  },
  {
   "cell_type": "code",
   "execution_count": null,
   "id": "44798bb4",
   "metadata": {},
   "outputs": [],
   "source": [
    "print(\"\\nMonthly Sales:\")\n",
    "print(monthly_sales)"
   ]
  },
  {
   "cell_type": "code",
   "execution_count": null,
   "id": "744793cd",
   "metadata": {},
   "outputs": [],
   "source": [
    "## Highest Sales is in Month of December and Lowest in month of November"
   ]
  },
  {
   "cell_type": "code",
   "execution_count": null,
   "id": "be784113",
   "metadata": {},
   "outputs": [],
   "source": [
    "## Quarterly Report"
   ]
  },
  {
   "cell_type": "code",
   "execution_count": null,
   "id": "907e11cf",
   "metadata": {},
   "outputs": [],
   "source": [
    "quarterly_sales = df.resample('Q')['Sales'].sum()"
   ]
  },
  {
   "cell_type": "code",
   "execution_count": null,
   "id": "57e4eb10",
   "metadata": {},
   "outputs": [],
   "source": [
    "print(\"\\nQuarterly Sales:\")\n",
    "print(quarterly_sales)"
   ]
  },
  {
   "cell_type": "markdown",
   "id": "447d2457",
   "metadata": {},
   "source": [
    "## 3. Data Visualization"
   ]
  },
  {
   "cell_type": "code",
   "execution_count": 34,
   "id": "c4b68d70",
   "metadata": {},
   "outputs": [],
   "source": [
    "## State-wise sales analysis for different groups "
   ]
  },
  {
   "cell_type": "code",
   "execution_count": 35,
   "id": "14e5a1dd",
   "metadata": {},
   "outputs": [
    {
     "data": {
      "text/plain": [
       "<Figure size 1200x800 with 0 Axes>"
      ]
     },
     "metadata": {},
     "output_type": "display_data"
    },
    {
     "data": {
      "image/png": "[encoded data removed]",
      "text/plain": [
       "<Figure size 640x480 with 1 Axes>"
      ]
     },
     "metadata": {},
     "output_type": "display_data"
    }
   ],
   "source": [
    "state_category = df.groupby(['State', 'Category']).size().unstack()\n",
    "\n",
    "# Plotting\n",
    "plt.figure(figsize=(12, 8))\n",
    "ax = state_category.plot(kind='bar', stacked=True)\n",
    "\n",
    "# Annotating bars with actual values\n",
    "for p in ax.patches:\n",
    "    width = p.get_width()\n",
    "    height = p.get_height()\n",
    "    x, y = p.get_xy()    \n",
    "    ax.annotate(f'{height}', (x + width/2, y + height/2), ha='center', va='center')\n",
    "\n",
    "plt.title('Sales by State and Category')\n",
    "plt.xlabel('State')\n",
    "plt.ylabel('Number of Sales')\n",
    "plt.xticks(rotation=45)\n",
    "plt.legend(title='Group')\n",
    "plt.tight_layout()\n",
    "plt.show()"
   ]
  },
  {
   "cell_type": "code",
   "execution_count": 36,
   "id": "ab8d26b4",
   "metadata": {},
   "outputs": [],
   "source": [
    "## Categorywise sales analysis "
   ]
  },
  {
   "cell_type": "code",
   "execution_count": 37,
   "id": "dae52f04",
   "metadata": {},
   "outputs": [
    {
     "data": {
      "text/plain": [
       "<Figure size 1200x800 with 0 Axes>"
      ]
     },
     "metadata": {},
     "output_type": "display_data"
    },
    {
     "data": {
      "image/png": "[encoded data removed]",
      "text/plain": [
       "<Figure size 640x480 with 1 Axes>"
      ]
     },
     "metadata": {},
     "output_type": "display_data"
    }
   ],
   "source": [
    "category_state = df.groupby(['Category', 'State']).size().unstack()\n",
    "\n",
    "# Plotting\n",
    "plt.figure(figsize=(12, 8))\n",
    "ax = category_state.plot(kind='bar', stacked=True)\n",
    "\n",
    "# Annotating bars with actual values\n",
    "for p in ax.patches:\n",
    "    width = p.get_width()\n",
    "    height = p.get_height()\n",
    "    x, y = p.get_xy()    \n",
    "    ax.annotate(f'{height}', (x + width/2, y + height/2), ha='center', va='center')\n",
    "\n",
    "plt.title('Sales by Category in States')\n",
    "plt.xlabel('Category')\n",
    "plt.ylabel('Number of Sales')\n",
    "plt.xticks(rotation=45)\n",
    "plt.legend(title='State')\n",
    "plt.tight_layout()\n",
    "plt.show()"
   ]
  },
  {
   "cell_type": "code",
   "execution_count": 38,
   "id": "87b40d92",
   "metadata": {},
   "outputs": [
    {
     "data": {
      "image/png": "[encoded data removed]",
      "text/plain": [
       "<Figure size 1000x600 with 1 Axes>"
      ]
     },
     "metadata": {},
     "output_type": "display_data"
    }
   ],
   "source": [
    "# Calculate total sales for each group\n",
    "total_sales_category = df.groupby('Category')['Sales'].sum().reset_index()\n",
    "\n",
    "# Plotting\n",
    "plt.figure(figsize=(10, 6))\n",
    "ax = sns.barplot(x='Category', y='Sales', data=total_sales_category, palette='viridis')\n",
    "\n",
    "# Annotating bars with total sales numbers\n",
    "for p in ax.patches:\n",
    "    ax.annotate(format(p.get_height(), '.0f'), \n",
    "                (p.get_x() + p.get_width() / 2., p.get_height()), \n",
    "                ha = 'center', va = 'center', \n",
    "                xytext = (0, 9), \n",
    "                textcoords = 'offset points')\n",
    "\n",
    "plt.title('Total Sales by Category')\n",
    "plt.xlabel('Category')\n",
    "plt.ylabel('Total Sales')\n",
    "plt.xticks(rotation=45)\n",
    "plt.tight_layout()\n",
    "plt.show()"
   ]
  },
  {
   "cell_type": "code",
   "execution_count": 39,
   "id": "9df60b29",
   "metadata": {},
   "outputs": [],
   "source": [
    "## Time-of-the-day analysis"
   ]
  },
  {
   "cell_type": "code",
   "execution_count": 40,
   "id": "bdb786ea",
   "metadata": {},
   "outputs": [],
   "source": [
    "time_sales = df.groupby('Time')['Sales'].sum().reset_index()"
   ]
  },
  {
   "cell_type": "code",
   "execution_count": 41,
   "id": "d3362e97",
   "metadata": {},
   "outputs": [],
   "source": [
    "time_sales = time_sales.sort_values(by='Sales', ascending=False)"
   ]
  },
  {
   "cell_type": "code",
   "execution_count": 42,
   "id": "33f98280",
   "metadata": {},
   "outputs": [
    {
     "data": {
      "image/png": "[encoded data removed]",
      "text/plain": [
       "<Figure size 800x400 with 1 Axes>"
      ]
     },
     "metadata": {},
     "output_type": "display_data"
    }
   ],
   "source": [
    "plt.figure(figsize=(8, 4))\n",
    "plt.bar(time_sales['Time'], time_sales['Sales'])\n",
    "plt.title('Sales at Different Times of the Day')\n",
    "plt.xlabel('Time of Day')\n",
    "plt.ylabel('Sales')\n",
    "plt.xticks(rotation=45)\n",
    "plt.tight_layout()\n",
    "plt.show()"
   ]
  },
  {
   "cell_type": "code",
   "execution_count": null,
   "id": "b4329f5d",
   "metadata": {},
   "outputs": [],
   "source": []
  },
  {
   "cell_type": "code",
   "execution_count": null,
   "id": "254a01f5",
   "metadata": {},
   "outputs": [],
   "source": []
  },
  {
   "cell_type": "code",
   "execution_count": null,
   "id": "40b32084",
   "metadata": {},
   "outputs": [],
   "source": []
  },
  {
   "cell_type": "code",
   "execution_count": null,
   "id": "cd0d9a24",
   "metadata": {},
   "outputs": [],
   "source": []
  },
  {
   "cell_type": "code",
   "execution_count": null,
   "id": "49c78fb9",
   "metadata": {},
   "outputs": [],
   "source": []
  },
  {
   "cell_type": "code",
   "execution_count": null,
   "id": "af6143c9",
   "metadata": {},
   "outputs": [],
   "source": []
  }
 ],
 "metadata": {
  "kernelspec": {
   "display_name": "Python 3 (ipykernel)",
   "language": "python",
   "name": "python3"
  },
  "language_info": {
   "codemirror_mode": {
    "name": "ipython",
    "version": 3
   },
   "file_extension": ".py",
   "mimetype": "text/x-python",
   "name": "python",
   "nbconvert_exporter": "python",
   "pygments_lexer": "ipython3",
   "version": "3.9.13"
  }
 },
 "nbformat": 4,
 "nbformat_minor": 5
}
